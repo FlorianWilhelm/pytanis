{
 "cells": [
  {
   "cell_type": "code",
   "execution_count": 1,
   "metadata": {},
   "outputs": [],
   "source": [
    "import os\n",
    "import sys\n",
    "import math\n",
    "import logging\n",
    "import structlog\n",
    "from pathlib import Path\n",
    "import json\n",
    "\n",
    "import numpy as np\n",
    "\n",
    "%load_ext autoreload\n",
    "%autoreload 2\n",
    "\n",
    "import matplotlib as mpl\n",
    "import matplotlib.pyplot as plt\n",
    "%matplotlib inline\n",
    "%config InlineBackend.figure_format = 'retina'\n",
    "\n",
    "import seaborn as sns\n",
    "sns.set_context(\"poster\")\n",
    "sns.set(rc={\"figure.figsize\": (16, 9.)})\n",
    "sns.set_style(\"whitegrid\")\n",
    "\n",
    "import pandas as pd\n",
    "pd.set_option(\"display.max_rows\", 120)\n",
    "pd.set_option(\"display.max_columns\", 120)"
   ]
  },
  {
   "cell_type": "code",
   "execution_count": 2,
   "metadata": {},
   "outputs": [],
   "source": [
    "logging.basicConfig(level=logging.INFO, stream=sys.stdout)"
   ]
  },
  {
   "cell_type": "code",
   "execution_count": 3,
   "metadata": {},
   "outputs": [],
   "source": [
    "import pytanis\n",
    "from pytanis import GoogleAPI, PretalxAPI\n",
    "from pytanis.review import read_assignment_as_df, sub_tracks_as_df, save_assignments_as_json, Col"
   ]
  },
  {
   "cell_type": "code",
   "execution_count": 4,
   "metadata": {},
   "outputs": [
    {
     "data": {
      "text/plain": [
       "'0.0.2.post1.dev5+g72b5045'"
      ]
     },
     "execution_count": 4,
     "metadata": {},
     "output_type": "execute_result"
    }
   ],
   "source": [
    "# Be aware that this notebook might only run with the following version\n",
    "pytanis.__version__ "
   ]
  },
  {
   "cell_type": "code",
   "execution_count": 5,
   "metadata": {},
   "outputs": [],
   "source": [
    "# General settings\n",
    "SPREADSHEET_ID = \"16iuVRM7V3p3FgfU-8WjwPlMAYJB-DvwRhYCi_heiftA\"\n",
    "RANGE = \"Form responses 1\"\n",
    "EVENT_NAME = \"pyconde-pydata-berlin-2023\"\n",
    "community_map = \"General: Community, Diversity, Career, Life and everything else\", \"General: Community\" # to make splitting easier in GSheet"
   ]
  },
  {
   "cell_type": "markdown",
   "metadata": {},
   "source": [
    "# Read current assignments and get all submissions from Pretalx"
   ]
  },
  {
   "cell_type": "code",
   "execution_count": 6,
   "metadata": {},
   "outputs": [],
   "source": [
    "curr_assign_df = read_assignment_as_df(\"assignments_20230112_1.json\")\n",
    "\n",
    "papi = PretalxAPI()\n",
    "subs_count, subs = papi.submissions(EVENT_NAME)\n",
    "subs_df = sub_tracks_as_df(subs)"
   ]
  },
  {
   "cell_type": "code",
   "execution_count": 7,
   "metadata": {},
   "outputs": [],
   "source": [
    "subs_df[Col.track].replace(dict([community_map]), inplace=True)"
   ]
  },
  {
   "cell_type": "code",
   "execution_count": 8,
   "metadata": {},
   "outputs": [],
   "source": [
    "# save all submission codes for later\n",
    "all_sub_codes = list(subs_df.index)"
   ]
  },
  {
   "cell_type": "code",
   "execution_count": 9,
   "metadata": {},
   "outputs": [],
   "source": [
    "# set the number of reviews we want\n",
    "subs_df[Col.needed_nreviews] = 3"
   ]
  },
  {
   "cell_type": "markdown",
   "metadata": {
    "tags": []
   },
   "source": [
    "# Get spreadsheat with reviewers and preferences"
   ]
  },
  {
   "cell_type": "code",
   "execution_count": 10,
   "metadata": {},
   "outputs": [],
   "source": [
    "gapi = GoogleAPI()\n",
    "gapi.init_token()"
   ]
  },
  {
   "cell_type": "code",
   "execution_count": 11,
   "metadata": {},
   "outputs": [
    {
     "name": "stdout",
     "output_type": "stream",
     "text": [
      "INFO:googleapiclient.discovery_cache:file_cache is only supported with oauth2client<4.0.0\n"
     ]
    }
   ],
   "source": [
    "gsheet_df = gapi.gsheet_as_df(SPREADSHEET_ID, RANGE)\n",
    "# rename columns to stick to our convention\n",
    "col_map = {\n",
    " \"Topics you want to review\": Col.track_prefs,\n",
    " \"Email address\": Col.email,\n",
    " \"Name\": Col.name,\n",
    " \"Affiliation\": Col.affiliation,\n",
    " \"Who do you know from the Committee?\": Col.committee_contact,\n",
    " \"Availability during the Review Period\": Col.availability,\n",
    " \"Additional comments regarding your availability during the review period.\": Col.availability_comment,\n",
    " \"Activated in Pretalx\": Col.pretalx_activated,\n",
    " \"Do you want your name to be listed as a reviewer on the conference website?\": Col.public,\n",
    " \"Wants all proposals\": Col.all_proposals,\n",
    " \"Any additional comments for the Program Committee\": Col.comment,\n",
    "}\n",
    "gsheet_df.rename(columns=col_map, inplace=True)"
   ]
  },
  {
   "cell_type": "markdown",
   "metadata": {},
   "source": [
    "### Do some transformations to handle the GSheet"
   ]
  },
  {
   "cell_type": "code",
   "execution_count": 12,
   "metadata": {},
   "outputs": [],
   "source": [
    "# parse preferences\n",
    "gsheet_df[Col.track_prefs] = gsheet_df[Col.track_prefs].apply(lambda x: x.replace(community_map[0], community_map[1]).split(', '))\n",
    "gsheet_df = gsheet_df.loc[gsheet_df[Col.pretalx_activated] != '']\n",
    "# save people that want all proposals for later\n",
    "assign_all_emails = gsheet_df[Col.email].loc[gsheet_df[Col.all_proposals] == 'x'].tolist()\n",
    "gsheet_df = gsheet_df.loc[gsheet_df[Col.all_proposals] != 'x']"
   ]
  },
  {
   "cell_type": "code",
   "execution_count": 13,
   "metadata": {},
   "outputs": [],
   "source": [
    "gsheet_df = pd.merge(gsheet_df, curr_assign_df, on=Col.email, how='left')\n",
    "gsheet_df[Col.curr_assignments] = gsheet_df[Col.curr_assignments].map(lambda x: x if isinstance(x, list) else [])"
   ]
  },
  {
   "cell_type": "code",
   "execution_count": 14,
   "metadata": {},
   "outputs": [],
   "source": [
    "# Remove assignments that are not longer available\n",
    "gsheet_df[Col.curr_assignments] = gsheet_df[Col.curr_assignments].map(lambda sub_lst: [sub for sub in sub_lst if sub in all_sub_codes])"
   ]
  },
  {
   "cell_type": "code",
   "execution_count": 15,
   "metadata": {},
   "outputs": [],
   "source": [
    "gsheet_df[Col.num_assignments] = gsheet_df[Col.curr_assignments].map(len)"
   ]
  },
  {
   "cell_type": "markdown",
   "metadata": {
    "tags": []
   },
   "source": [
    "# Determine which proposals need to be assigned"
   ]
  },
  {
   "cell_type": "code",
   "execution_count": 16,
   "metadata": {},
   "outputs": [],
   "source": [
    "# find out what we still have to assign\n",
    "curr_assignment_counts = gsheet_df[Col.curr_assignments].explode().value_counts()\n",
    "curr_assignment_counts = curr_assignment_counts.loc[curr_assignment_counts.index.isin(all_sub_codes)] # drop assignments that are no longer in Pretalx\n",
    "\n",
    "dist_df = subs_df.copy()\n",
    "dist_df.loc[curr_assignment_counts.index, Col.needed_nreviews] = subs_df[Col.needed_nreviews].loc[curr_assignment_counts.index] - curr_assignment_counts"
   ]
  },
  {
   "cell_type": "markdown",
   "metadata": {},
   "source": [
    "# Assign remaining proposals to reviewers\n",
    "\n",
    "The main idea is to assign each submission the number of times it still needs to be assigned to the person having a preference for the track with the least amount of current work. \n",
    "If no person has a preference for the track of the proposal, assign to someone with not much work."
   ]
  },
  {
   "cell_type": "code",
   "execution_count": 17,
   "metadata": {},
   "outputs": [],
   "source": [
    "def find_user(df, mask):\n",
    "    if df.loc[mask].empty:\n",
    "        return df[Col.num_assignments].idxmin()\n",
    "    else:\n",
    "        return df.loc[mask, Col.num_assignments].idxmin()\n",
    "\n",
    "def assign_proposals(dist_df, curr_df):\n",
    "    curr_df = curr_df.copy()\n",
    "    for sub, row in dist_df.iterrows():\n",
    "        mask = curr_df[Col.track_prefs].map(lambda x: row[Col.track] in x)\n",
    "        for _ in range(row[Col.needed_nreviews]):\n",
    "            idx = find_user(curr_df, mask)\n",
    "            curr_df.loc[idx, Col.curr_assignments].append(sub)\n",
    "            curr_df.loc[idx, Col.num_assignments] += 1\n",
    "    return curr_df"
   ]
  },
  {
   "cell_type": "code",
   "execution_count": 18,
   "metadata": {},
   "outputs": [],
   "source": [
    "assign_df = assign_proposals(dist_df, gsheet_df)"
   ]
  },
  {
   "cell_type": "code",
   "execution_count": 19,
   "metadata": {},
   "outputs": [],
   "source": [
    "# add people that want all proposals assigned again\n",
    "all_subs_df = pd.DataFrame({Col.email: assign_all_emails, Col.curr_assignments: [all_sub_codes] * len(assign_all_emails)})\n",
    "assign_df = pd.concat([assign_df, all_subs_df]).reset_index()"
   ]
  },
  {
   "cell_type": "markdown",
   "metadata": {},
   "source": [
    "# Save it as JSON"
   ]
  },
  {
   "cell_type": "code",
   "execution_count": 20,
   "metadata": {},
   "outputs": [],
   "source": [
    "save_assignments_as_json(assign_df, \"assignments_20230114_1.json\")"
   ]
  },
  {
   "cell_type": "code",
   "execution_count": null,
   "metadata": {},
   "outputs": [],
   "source": []
  }
 ],
 "metadata": {
  "kernelspec": {
   "display_name": "Python 3 (ipykernel)",
   "language": "python",
   "name": "python3"
  },
  "language_info": {
   "codemirror_mode": {
    "name": "ipython",
    "version": 3
   },
   "file_extension": ".py",
   "mimetype": "text/x-python",
   "name": "python",
   "nbconvert_exporter": "python",
   "pygments_lexer": "ipython3",
   "version": "3.10.8"
  },
  "pycharm": {
   "stem_cell": {
    "cell_type": "raw",
    "metadata": {
     "collapsed": false
    },
    "source": []
   }
  }
 },
 "nbformat": 4,
 "nbformat_minor": 4
}
