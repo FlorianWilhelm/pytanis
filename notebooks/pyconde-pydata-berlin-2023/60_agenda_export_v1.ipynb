{
 "cells": [
  {
   "cell_type": "code",
   "execution_count": 1,
   "metadata": {
    "tags": []
   },
   "outputs": [],
   "source": [
    "import sys\n",
    "import logging\n",
    "import tomli\n",
    "import pandas as pd\n",
    "\n",
    "import pytanis\n",
    "from pytanis import GSheetClient, PretalxClient\n",
    "from pytanis.google import Scope, gsheet_rows_for_fmt, worksheet_range\n",
    "from pytanis.pretalx import subs_as_df, reviews_as_df, speakers_as_df\n",
    "from pytanis.utils import implode\n"
   ]
  },
  {
   "cell_type": "code",
   "execution_count": 2,
   "metadata": {
    "tags": []
   },
   "outputs": [
    {
     "data": {
      "text/plain": [
       "'0.5'"
      ]
     },
     "execution_count": 2,
     "metadata": {},
     "output_type": "execute_result"
    }
   ],
   "source": [
    "# Be aware that this notebook might only run with the following version\n",
    "pytanis.__version__ "
   ]
  },
  {
   "cell_type": "code",
   "execution_count": 3,
   "metadata": {
    "tags": []
   },
   "outputs": [],
   "source": [
    "# Import event-specific settings to don't have them here in the notebook\n",
    "with open('config.toml', 'rb') as fh:\n",
    "    cfg = tomli.load(fh)\n"
   ]
  },
  {
   "cell_type": "markdown",
   "metadata": {
    "tags": []
   },
   "source": [
    "## Retrieve the talks"
   ]
  },
  {
   "cell_type": "code",
   "execution_count": 4,
   "metadata": {
    "tags": []
   },
   "outputs": [
    {
     "data": {
      "application/vnd.jupyter.widget-view+json": {
       "model_id": "ae7fa732607f480b91924301bd467464",
       "version_major": 2,
       "version_minor": 0
      },
      "text/plain": [
       "  0%|          | 0/115 [00:00<?, ?it/s]"
      ]
     },
     "metadata": {},
     "output_type": "display_data"
    }
   ],
   "source": [
    "pretalx_client = PretalxClient(blocking=True)\n",
    "talks_count, talks = pretalx_client.submissions(cfg['event_name'], params={\"questions\": \"all\", \"state\": [\"confirmed\"]})\n",
    "talks = list(talks)"
   ]
  },
  {
   "cell_type": "code",
   "execution_count": 5,
   "metadata": {
    "tags": []
   },
   "outputs": [],
   "source": [
    "def to_pdf(subs):\n",
    "    rows = []\n",
    "    for sub in subs:\n",
    "        if not sub.slot:\n",
    "            print(\"Not scheduled?\")\n",
    "            print(sub.speakers, sub.title, sub.code)\n",
    "            continue\n",
    "        row = {\n",
    "            \"Submission\": sub.code,\n",
    "            \"Speaker\": \", \".join([speaker.name for speaker in sub.speakers]),\n",
    "            \"Day\": f\"{sub.slot.start.day}\",\n",
    "            \"Time\": f\"{sub.slot.start.time()}-{sub.slot.end.time()}\",\n",
    "            \"Room\": sub.slot.room.en,\n",
    "            \"Duration\": sub.duration,\n",
    "            \"Track\": sub.track.en if sub.track else None,\n",
    "            \"Title\": sub.title,\n",
    "            \"URL\": f\"https://pretalx.com/pyconde-pydata-berlin-2023/talk/{sub.code}/\"\n",
    "        }\n",
    "        rows.append(row)\n",
    "    return pd.DataFrame(rows)"
   ]
  },
  {
   "cell_type": "code",
   "execution_count": 6,
   "metadata": {
    "tags": []
   },
   "outputs": [
    {
     "name": "stdout",
     "output_type": "stream",
     "text": [
      "Not scheduled?\n",
      "[SubmissionSpeaker(code='NMACLQ', name='Tereza Iofciu', biography=None, avatar='https://pretalx.com/media/avatars/IMG_1246_mOIzBWp.jpg', email='terezaif@gmail.com')] Rethinking codes of conduct AWBLKN\n",
      "Not scheduled?\n",
      "[SubmissionSpeaker(code='8BJ7S9', name='Lev Konstantinovskiy', biography='Lev Konstantinovskiy is an experienced data science and software engineering team lead. Long time ago he used to maintain a python Natural Language Processing library gensim.', avatar=None, email='lev.konst@gmail.com')] Prompt Engineering 101: Beginner intro to LangChain MSZG7B\n"
     ]
    }
   ],
   "source": [
    "df = to_pdf(talks)"
   ]
  },
  {
   "cell_type": "code",
   "execution_count": 7,
   "metadata": {
    "tags": []
   },
   "outputs": [
    {
     "data": {
      "text/plain": [
       "['Kuppelsaal', 'B05-B06', 'B07-B08', 'A1', 'B09', 'A03-A04', 'A05-A06']"
      ]
     },
     "execution_count": 7,
     "metadata": {},
     "output_type": "execute_result"
    }
   ],
   "source": [
    "rooms = list(df['Room'].unique())\n",
    "rooms"
   ]
  },
  {
   "cell_type": "code",
   "execution_count": 8,
   "metadata": {
    "tags": []
   },
   "outputs": [],
   "source": [
    "columns_list = [\"Day\", \"Time\", \"Speaker\", \"Title\", \"Duration\", \"Submission\", \"URL\"]"
   ]
  },
  {
   "cell_type": "markdown",
   "metadata": {},
   "source": [
    "## Upload to GSheet"
   ]
  },
  {
   "cell_type": "code",
   "execution_count": 9,
   "metadata": {
    "tags": []
   },
   "outputs": [],
   "source": [
    "gsheet_client = GSheetClient(read_only=False)"
   ]
  },
  {
   "cell_type": "code",
   "execution_count": 10,
   "metadata": {
    "tags": []
   },
   "outputs": [],
   "source": [
    "for room in rooms:\n",
    "    gsheet_client.save_df_as_gsheet(df[df['Room']==room][columns_list].sort_values(by=['Day', 'Time']), cfg['schedule_spread_id'], room, create_ws=True)"
   ]
  },
  {
   "cell_type": "code",
   "execution_count": null,
   "metadata": {},
   "outputs": [],
   "source": []
  }
 ],
 "metadata": {
  "kernelspec": {
   "display_name": "Python 3 (ipykernel)",
   "language": "python",
   "name": "python3"
  },
  "language_info": {
   "codemirror_mode": {
    "name": "ipython",
    "version": 3
   },
   "file_extension": ".py",
   "mimetype": "text/x-python",
   "name": "python",
   "nbconvert_exporter": "python",
   "pygments_lexer": "ipython3",
   "version": "3.10.10"
  },
  "pycharm": {
   "stem_cell": {
    "cell_type": "raw",
    "metadata": {
     "collapsed": false
    },
    "source": []
   }
  }
 },
 "nbformat": 4,
 "nbformat_minor": 4
}
