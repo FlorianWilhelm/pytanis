{
 "cells": [
  {
   "cell_type": "code",
   "execution_count": null,
   "metadata": {
    "tags": []
   },
   "outputs": [],
   "source": [
    "import os\n",
    "import sys\n",
    "import math\n",
    "import logging\n",
    "import structlog\n",
    "from pathlib import Path\n",
    "import json\n",
    "from copy import deepcopy\n",
    "import pickle\n",
    "\n",
    "import tomli\n",
    "import numpy as np\n",
    "\n",
    "%load_ext autoreload\n",
    "%autoreload 2\n",
    "\n",
    "import matplotlib as mpl\n",
    "import matplotlib.pyplot as plt\n",
    "\n",
    "%matplotlib inline\n",
    "%config InlineBackend.figure_format = 'retina'\n",
    "\n",
    "import seaborn as sns\n",
    "\n",
    "sns.set_context('poster')\n",
    "sns.set(rc={'figure.figsize': (12, 6.0)})\n",
    "sns.set_style('whitegrid')\n",
    "\n",
    "import pandas as pd\n",
    "\n",
    "pd.set_option('display.max_rows', 120)\n",
    "pd.set_option('display.max_columns', 120)"
   ]
  },
  {
   "cell_type": "code",
   "execution_count": null,
   "metadata": {
    "tags": []
   },
   "outputs": [],
   "source": [
    "logging.basicConfig(level=logging.WARNING, stream=sys.stdout)"
   ]
  },
  {
   "cell_type": "code",
   "execution_count": null,
   "metadata": {
    "tags": []
   },
   "outputs": [],
   "source": [
    "import pytanis\n",
    "from pytanis import GSheetsClient, PretalxClient\n",
    "from pytanis.pretalx import subs_as_df\n",
    "from pytanis.review import read_assignment_as_df, save_assignments_as_json, Col"
   ]
  },
  {
   "cell_type": "code",
   "execution_count": null,
   "metadata": {
    "tags": []
   },
   "outputs": [],
   "source": [
    "# Be aware that this notebook might only run with the following version\n",
    "pytanis.__version__"
   ]
  },
  {
   "cell_type": "code",
   "execution_count": null,
   "metadata": {
    "tags": []
   },
   "outputs": [],
   "source": [
    "# Import event-specific settings to don't have them here in the notebook\n",
    "with open('config.toml', 'rb') as fh:\n",
    "    cfg = tomli.load(fh)\n",
    "\n",
    "TARGET_REVIEWS = 3  # We want at least 3 reviews per proposal\n",
    "BUFFER_REVIEWS = 15  # Additionally assign 2 more as long as TARGET_REVIEWS is not fullfilled.\n",
    "RND_STATE = 1729  # Random state or None for really random\n",
    "community_map = (\n",
    "    'General: Community, Diversity, Career, Life and everything else',\n",
    "    'General: Community',\n",
    ")  # to make splitting easier in GSheet"
   ]
  },
  {
   "cell_type": "markdown",
   "metadata": {},
   "source": [
    "# Read Reviews and all Submissions"
   ]
  },
  {
   "cell_type": "code",
   "execution_count": null,
   "metadata": {
    "tags": []
   },
   "outputs": [],
   "source": [
    "pretalx_client = PretalxClient(blocking=True)\n",
    "subs_count, subs = pretalx_client.submissions(cfg['event_name'])\n",
    "revs_count, revs = pretalx_client.reviews(cfg['event_name'])\n",
    "subs, revs = list(subs), list(revs)"
   ]
  },
  {
   "cell_type": "code",
   "execution_count": null,
   "metadata": {
    "tags": []
   },
   "outputs": [],
   "source": [
    "# count reviews that actually have scores\n",
    "revs_vcounts = pd.Series([r.submission for r in revs if r.score is not None]).value_counts()\n",
    "revs_vcounts = revs_vcounts.reset_index().rename(columns={'index': Col.submission, 'count': Col.nreviews})\n",
    "# keep track of all reviews, i.e. proposals people interacted with\n",
    "revs_df_raw = pd.DataFrame([\n",
    "    {'created': r.created, 'updated': r.updated, Col.pretalx_user: r.user, 'score': r.score, 'review': r.submission}\n",
    "    for r in revs\n",
    "])\n",
    "revs_user_df = revs_df_raw.groupby([Col.pretalx_user]).agg(lambda x: x.tolist()).reset_index()"
   ]
  },
  {
   "cell_type": "code",
   "execution_count": null,
   "metadata": {
    "tags": []
   },
   "outputs": [],
   "source": [
    "subs_df = subs_as_df([sub for sub in subs if sub.state.value == 'submitted'])\n",
    "subs_df = subs_df.loc[subs_df[Col.pending_state].isnull()]  # Take only submitted ones\n",
    "subs_df[Col.track].replace(dict([community_map]), inplace=True)\n",
    "subs_df[Col.target_nreviews] = TARGET_REVIEWS\n",
    "subs_df = pd.merge(subs_df, revs_vcounts, on=Col.submission, how='left')\n",
    "subs_df[Col.nreviews] = subs_df[Col.nreviews].fillna(0).astype(int)\n",
    "subs_df[Col.rem_nreviews] = (subs_df[Col.target_nreviews] - subs_df[Col.nreviews]).map(lambda x: max(0, x))"
   ]
  },
  {
   "cell_type": "code",
   "execution_count": null,
   "metadata": {},
   "outputs": [],
   "source": [
    "# save all submission codes for later\n",
    "all_sub_codes = list(subs_df[Col.submission])"
   ]
  },
  {
   "cell_type": "markdown",
   "metadata": {},
   "source": [
    "## Some Statistics about the current Review Process"
   ]
  },
  {
   "cell_type": "code",
   "execution_count": null,
   "metadata": {},
   "outputs": [],
   "source": [
    "sns_df = (\n",
    "    subs_df[Col.nreviews].value_counts().reset_index().rename(columns={'count': '#Proposal', Col.nreviews: '#Reviews'})\n",
    ")\n",
    "ax = sns.barplot(\n",
    "    sns_df,\n",
    "    x='#Reviews',\n",
    "    y='#Proposal',\n",
    ")\n",
    "ax.set_title('Number of reviews per proposal')\n",
    "ax.set(ylim=(0, len(subs_df.index)));"
   ]
  },
  {
   "cell_type": "code",
   "execution_count": null,
   "metadata": {},
   "outputs": [],
   "source": [
    "progress_df = subs_df.copy()\n",
    "progress_df[Col.nreviews] = progress_df[Col.nreviews].map(\n",
    "    lambda x: min(x, TARGET_REVIEWS)\n",
    ")  # map more than 3 reviews to 3\n",
    "progress_df = progress_df[[Col.target_nreviews, Col.nreviews]].sum().to_frame().T\n",
    "f, ax = plt.subplots(figsize=(15, 1))\n",
    "sns.set_color_codes('pastel')\n",
    "sns.barplot(data=subs_df[[Col.target_nreviews, Col.nreviews]].sum().to_frame().T, x=Col.target_nreviews, color='b')\n",
    "sns.set_color_codes('muted')\n",
    "ax = sns.barplot(data=progress_df, x=Col.nreviews, color='b')\n",
    "ax.set_title('Review Progress')\n",
    "ax.bar_label(\n",
    "    ax.containers[1], labels=[f'{progress_df.loc[0, Col.nreviews] / progress_df.loc[0, Col.target_nreviews]:.1%}']\n",
    ");"
   ]
  },
  {
   "cell_type": "markdown",
   "metadata": {
    "tags": []
   },
   "source": [
    "# Get spreadsheat with reviewers and preferences"
   ]
  },
  {
   "cell_type": "code",
   "execution_count": null,
   "metadata": {},
   "outputs": [],
   "source": [
    "gsheet_client = GSheetsClient()"
   ]
  },
  {
   "cell_type": "code",
   "execution_count": null,
   "metadata": {},
   "outputs": [],
   "source": [
    "gsheet_df = gsheet_client.gsheet_as_df(cfg['reviewer_spread_id'], cfg['reviewer_work_name'])\n",
    "# rename columns to stick to our convention\n",
    "col_map = {\n",
    "    'Topics you want to review': Col.track_prefs,\n",
    "    'Email address': 'Invitation email',  # e-mail address we sent the pretalx invitation to\n",
    "    'Pretalx Mail': Col.email,  # e-mail people used to register.\n",
    "    'Name': Col.speaker_name,\n",
    "    'Affiliation': Col.affiliation,\n",
    "    'Who do you know from the Committee?': Col.committee_contact,\n",
    "    'Availability during the Review Period': Col.availability,\n",
    "    'Additional comments regarding your availability during the review period.': Col.availability_comment,\n",
    "    'Activated in Pretalx': Col.pretalx_activated,\n",
    "    'Do you want your name to be listed as a reviewer on the conference website?': Col.public,\n",
    "    'Wants all proposals': Col.all_proposals,\n",
    "    'Any additional comments for the Program Committee': Col.comment,\n",
    "    'Pretalx Name': Col.pretalx_user,\n",
    "}\n",
    "gsheet_df.rename(columns=col_map, inplace=True)"
   ]
  },
  {
   "cell_type": "code",
   "execution_count": null,
   "metadata": {},
   "outputs": [],
   "source": [
    "gsheet_df.head()"
   ]
  },
  {
   "cell_type": "markdown",
   "metadata": {},
   "source": [
    "### Do some transformations to handle the GSheet"
   ]
  },
  {
   "cell_type": "code",
   "execution_count": null,
   "metadata": {},
   "outputs": [],
   "source": [
    "# parse preferences\n",
    "gsheet_df[Col.track_prefs] = gsheet_df[Col.track_prefs].apply(\n",
    "    lambda x: x.replace(community_map[0], community_map[1]).split(', ')\n",
    ")\n",
    "gsheet_df = gsheet_df.loc[~gsheet_df[Col.pretalx_activated].isna()]\n",
    "# save people that want all proposals for later\n",
    "assign_all_emails = gsheet_df[Col.email].loc[gsheet_df[Col.all_proposals] == 'x'].tolist()"
   ]
  },
  {
   "cell_type": "code",
   "execution_count": null,
   "metadata": {},
   "outputs": [],
   "source": [
    "reviewers_df = pd.merge(gsheet_df, revs_user_df, on=Col.pretalx_user, how='left')\n",
    "reviewers_df['review'] = reviewers_df['review'].apply(lambda x: x if isinstance(x, list) else [])\n",
    "reviewers_df[Col.curr_assignments] = reviewers_df['review'].map(lambda x: x[:])"
   ]
  },
  {
   "cell_type": "code",
   "execution_count": null,
   "metadata": {},
   "outputs": [],
   "source": [
    "reviewers_df = reviewers_df.assign(**{\n",
    "    Col.done_nreviews: reviewers_df['score'].map(\n",
    "        lambda scores: 0 if not isinstance(scores, list) else len([s for s in scores if not np.isnan(s)])\n",
    "    )\n",
    "})"
   ]
  },
  {
   "cell_type": "code",
   "execution_count": null,
   "metadata": {},
   "outputs": [],
   "source": [
    "sns_df = (\n",
    "    reviewers_df[Col.done_nreviews]\n",
    "    .value_counts()\n",
    "    .reset_index()\n",
    "    .rename(columns={'count': '#Reviewers', Col.done_nreviews: 'Done #Reviews'})\n",
    ")\n",
    "ax = sns.barplot(sns_df, y='#Reviewers', x='Done #Reviews')\n",
    "ax.set_title('Reviews done per reviewer');"
   ]
  },
  {
   "cell_type": "code",
   "execution_count": null,
   "metadata": {},
   "outputs": [],
   "source": [
    "reviewers_df[[Col.speaker_name, Col.done_nreviews]][reviewers_df[Col.done_nreviews]>0].shape"
   ]
  },
  {
   "cell_type": "code",
   "execution_count": null,
   "metadata": {},
   "outputs": [],
   "source": [
    "top_n = reviewers_df[[Col.speaker_name, Col.done_nreviews]].sort_values(by=Col.done_nreviews, ascending=False)\n",
    "f, ax = plt.subplots(figsize=(12, 24))\n",
    "sns.barplot(data=top_n, y=Col.speaker_name, x=Col.done_nreviews)\n",
    "plt.title('Top reviewers')\n",
    "plt.xlabel('Number of reviews')\n",
    "plt.ylabel('Reviewer')\n"
   ]
  },
  {
   "cell_type": "code",
   "execution_count": null,
   "metadata": {},
   "outputs": [],
   "source": [
    "\n",
    "active_rev = pd.DataFrame({\n",
    "    'Active Reviewers': [\n",
    "        reviewers_df.assign(started=reviewers_df[Col.done_nreviews] > 0)\n",
    "        .groupby('started')\n",
    "        .count()[Col.speaker_name]\n",
    "        .loc[True]\n",
    "    ],\n",
    "    'all': [len(reviewers_df)],\n",
    "})"
   ]
  },
  {
   "cell_type": "code",
   "execution_count": null,
   "metadata": {},
   "outputs": [],
   "source": [
    "f, ax = plt.subplots(figsize=(15, 1))\n",
    "sns.set_color_codes('pastel')\n",
    "sns.barplot(data=active_rev, x='all', color='g')\n",
    "sns.set_color_codes('muted')\n",
    "ax = sns.barplot(data=active_rev, x='Active Reviewers', color='g')\n",
    "ax.set_title('Active Reviewers')\n",
    "ax.bar_label(\n",
    "    ax.containers[1], labels=['{:.1%}'.format(active_rev.loc[0, 'Active Reviewers'] / active_rev.loc[0, 'all'])]\n",
    ");"
   ]
  },
  {
   "cell_type": "code",
   "execution_count": null,
   "metadata": {},
   "outputs": [],
   "source": [
    "\n",
    "ax = sns.barplot(pd.get_dummies(reviewers_df[[Col.track_prefs]].explode(Col.track_prefs), prefix='', prefix_sep='').sum())\n",
    "plt.xticks(rotation=90)\n",
    "ax.set_title('Track Preferences of Reviewers')\n",
    "ax.set_ylabel('#Reviewers');"
   ]
  },
  {
   "cell_type": "markdown",
   "metadata": {},
   "source": [
    "# Assign proposals to reviewers\n",
    "\n",
    "The main idea is to assign each the number of needed reviews plus a buffer for a proposal/submission: \n",
    "* not a person having already assigned the review for a submission (no duplicates)\n",
    "* to a person having a preference for the track with the least amount of current work.\n",
    "* if no person has a preference for the track of the proposal, assign to someone with not much work.\n",
    "(it might be that someone gets by accident assigned his/her own proposal but Pretalx takes care of that if the same user e-mail was used)\n",
    "\n",
    "This is done initially. Then whenever this script is rerun, we remove all propoals from the review when the target review number is reached.\n",
    "We keep the current state, so that the initial number of proposals for review will only get smaller. From last year we learnt that reviewers\n",
    "hate it when we start assigning more and more work... who would have thought.\n",
    "\n",
    "Other considerations for the algorithm:\n",
    "* Don't have a state, i.e. do not depend on a former assignment json, been there, tried it, always causes trouble in the end\n",
    "* Make sure reviewers can visit submissions again which they already reviewed, i.e. make sure you do not remove already reviwed submission from a new assignment.\n",
    "* Keep in mind that there are always reviwers that sign up late for the party.\n",
    "\n"
   ]
  },
  {
   "cell_type": "code",
   "execution_count": null,
   "metadata": {},
   "outputs": [],
   "source": [
    "def copy_df(df):\n",
    "    return pickle.loads(pickle.dumps(df))\n",
    "\n",
    "def assign_proposals(subs_df, reviewers_df, buffer: int):\n",
    "    col_rem_assign, col_n_assigned = 'Remaining Assignments', 'Current #Assignments'\n",
    "\n",
    "    def find_reviewer(df, is_preference, is_already_assigned, sub):\n",
    "        mask = is_preference & ~is_already_assigned\n",
    "        if df.loc[mask].empty:\n",
    "            logging.warning(f'No suitable reviewer found for submission {sub}!')\n",
    "            return df.loc[~is_already_assigned, col_n_assigned].idxmin()\n",
    "        else:\n",
    "            return df.loc[mask, col_n_assigned].idxmin()\n",
    "\n",
    "    # make a real deep copy. Pandas sucks and even deepcopy doesn't work!\n",
    "    subs_df, reviewers_df = copy_df(subs_df), copy_df(reviewers_df)\n",
    "\n",
    "    # make sure each reviewer is assigned the reviews already done by him/her\n",
    "    reviewers_df[Col.curr_assignments] = reviewers_df['review'].map(lambda x: x[:])\n",
    "\n",
    "    # sanity check if we cover all preferenes of the submissions\n",
    "    reviewer_prefs = {e for l in reviewers_df[Col.track_prefs].to_list() for e in l}\n",
    "    sub_prefs = set(subs_df[Col.track].to_list())\n",
    "    if reviewer_prefs != sub_prefs:\n",
    "        msg = (\n",
    "            'Preferences of reviewers and submission do not align:\\n',\n",
    "            f'Reviewer\\\\Submission: {reviewer_prefs - sub_prefs}\\n',\n",
    "            f'Submission\\\\Reviewer: {sub_prefs - reviewer_prefs}',\n",
    "        )\n",
    "        raise RuntimeError(msg)\n",
    "\n",
    "    subs_df = subs_df.sort_values(Col.rem_nreviews, ascending=False)\n",
    "    # calculate which submissions have been already assigned in reviewers_df\n",
    "    subs_df.set_index(Col.submission, inplace=True)\n",
    "    subs_df[col_n_assigned] = reviewers_df[Col.curr_assignments].explode(Col.curr_assignments).value_counts()\n",
    "    subs_df[col_n_assigned] = subs_df[col_n_assigned].fillna(0)\n",
    "    subs_df.reset_index(inplace=True)\n",
    "\n",
    "    subs_df[col_rem_assign] = subs_df[Col.rem_nreviews].where(subs_df[Col.rem_nreviews] == 0, subs_df[Col.rem_nreviews] + buffer - subs_df[col_n_assigned])\n",
    "    reviewers_df[col_n_assigned] = reviewers_df[Col.curr_assignments].apply(len)\n",
    "\n",
    "    while subs_df[col_rem_assign].sum() > 0:\n",
    "        for row_idx, row in subs_df.iterrows():\n",
    "            curr_sub = row[Col.submission]\n",
    "            is_preference = reviewers_df[Col.track_prefs].map(lambda x: row[Col.track] in x)\n",
    "            is_already_assigned = reviewers_df[Col.curr_assignments].map(lambda x: curr_sub in x)\n",
    "\n",
    "            if row[col_rem_assign] > 0:\n",
    "                reviewer_idx = find_reviewer(reviewers_df, is_preference, is_already_assigned, curr_sub)\n",
    "                logging.info(\n",
    "                    f'Assigning submission {curr_sub} to reviewer {reviewers_df.loc[reviewer_idx, Col.pretalx_user]}'\n",
    "                )\n",
    "                reviewers_df.loc[reviewer_idx, Col.curr_assignments].append(curr_sub)\n",
    "                reviewers_df.loc[reviewer_idx, col_n_assigned] += 1\n",
    "                subs_df.loc[row_idx, col_rem_assign] -= 1\n",
    "\n",
    "    return reviewers_df\n",
    "\n",
    "new_assign_df = assign_proposals(subs_df, reviewers_df.loc[reviewers_df[Col.all_proposals] != 'x'], buffer=BUFFER_REVIEWS)\n",
    "\n",
    "# add people that want all proposals assigned again\n",
    "all_subs_df = pd.DataFrame({Col.email: assign_all_emails, Col.curr_assignments: [all_sub_codes] * len(assign_all_emails)})\n",
    "new_assign_df = pd.concat([new_assign_df, all_subs_df]).reset_index()\n",
    "\n",
    "save_assignments_as_json(new_assign_df, 'assignments_20240128_1.json')"
   ]
  },
  {
   "cell_type": "markdown",
   "metadata": {},
   "source": [
    "# Final reviewing results"
   ]
  },
  {
   "cell_type": "code",
   "execution_count": null,
   "metadata": {},
   "outputs": [],
   "source": [
    "reviewers_df[[Col.speaker_name, Col.done_nreviews]]"
   ]
  },
  {
   "cell_type": "code",
   "execution_count": null,
   "metadata": {},
   "outputs": [],
   "source": []
  }
 ],
 "metadata": {
  "kernelspec": {
   "display_name": "Python 3 (ipykernel)",
   "language": "python",
   "name": "python3"
  },
  "language_info": {
   "codemirror_mode": {
    "name": "ipython",
    "version": 3
   },
   "file_extension": ".py",
   "mimetype": "text/x-python",
   "name": "python",
   "nbconvert_exporter": "python",
   "pygments_lexer": "ipython3",
   "version": "3.10.9"
  },
  "pycharm": {
   "stem_cell": {
    "cell_type": "raw",
    "metadata": {
     "collapsed": false
    },
    "source": []
   }
  }
 },
 "nbformat": 4,
 "nbformat_minor": 4
}
