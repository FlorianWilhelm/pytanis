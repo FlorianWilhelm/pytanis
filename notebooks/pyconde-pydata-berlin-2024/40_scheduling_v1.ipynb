{
 "cells": [
  {
   "cell_type": "code",
   "execution_count": null,
   "metadata": {},
   "outputs": [],
   "source": [
    "import os\n",
    "import sys\n",
    "import math\n",
    "import logging\n",
    "import structlog\n",
    "from pathlib import Path\n",
    "import json\n",
    "import re\n",
    "from itertools import product, combinations\n",
    "\n",
    "import tomli\n",
    "import numpy as np\n",
    "\n",
    "%load_ext autoreload\n",
    "%autoreload 2\n",
    "\n",
    "import matplotlib as mpl\n",
    "import matplotlib.pyplot as plt\n",
    "%matplotlib inline\n",
    "%config InlineBackend.figure_format = 'retina'\n",
    "\n",
    "import seaborn as sns\n",
    "sns.set_context(\"poster\")\n",
    "sns.set(rc={\"figure.figsize\": (12, 6.)})\n",
    "sns.set_style(\"whitegrid\")\n",
    "\n",
    "import pandas as pd\n",
    "pd.set_option(\"display.max_rows\", 120)\n",
    "pd.set_option(\"display.max_columns\", 120)"
   ]
  },
  {
   "cell_type": "code",
   "execution_count": null,
   "metadata": {},
   "outputs": [],
   "source": [
    "logging.basicConfig(level=logging.WARNING, stream=sys.stdout)"
   ]
  },
  {
   "cell_type": "code",
   "execution_count": null,
   "metadata": {},
   "outputs": [],
   "source": [
    "import pytanis\n",
    "from pytanis import GSheetsClient, PretalxClient, get_cfg\n",
    "from pytanis.google import Scope, gsheet_rows_for_fmt, worksheet_range\n",
    "from pytanis.review import read_assignment_as_df, save_assignments_as_json, Col\n",
    "from pytanis.pretalx import subs_as_df, reviews_as_df, speakers_as_df\n",
    "from pytanis.utils import implode\n",
    "from pytanis.highs import set_solution_from_file, read_sol_file"
   ]
  },
  {
   "cell_type": "code",
   "execution_count": null,
   "metadata": {},
   "outputs": [],
   "source": [
    "# Be aware that this notebook might only run with the following version\n",
    "pytanis.__version__ "
   ]
  },
  {
   "cell_type": "code",
   "execution_count": null,
   "metadata": {},
   "outputs": [],
   "source": [
    "# Import event-specific settings to don't have them here in the notebook\n",
    "with open('config.toml', 'rb') as fh:\n",
    "    cfg = tomli.load(fh)\n"
   ]
  },
  {
   "cell_type": "markdown",
   "metadata": {
    "tags": []
   },
   "source": [
    "## Gather all Data, i.e. Submissions, Votes and Scheduling Data"
   ]
  },
  {
   "cell_type": "code",
   "execution_count": null,
   "metadata": {},
   "outputs": [],
   "source": [
    "pretalx_client = PretalxClient(blocking=True)\n",
    "talks_count, talks = pretalx_client.submissions(cfg['event_name'], params={\"questions\": \"all\", \"state\": [\"confirmed\", \"accepted\"]})\n",
    "talks = list(talks)\n",
    "rooms_count, rooms = pretalx_client.rooms(cfg['event_name'])\n",
    "rooms = list(rooms)"
   ]
  },
  {
   "cell_type": "code",
   "execution_count": null,
   "metadata": {},
   "outputs": [],
   "source": [
    "talks_df = subs_as_df(talks, with_questions=True)\n",
    "# Ignore Keynotes when scheduling\n",
    "talks_df = talks_df.loc[~(talks_df[Col.submission_type] == \"Keynote\")]\n",
    "# Split track up in main/sub track\n",
    "talks_df.insert(2, 'Main track', talks_df[Col.track].map(lambda x: x.split(\":\")[0] if not pd.isna(x) else x))\n",
    "talks_df[Col.track] = talks_df[Col.track].map(lambda x: x.split(\":\")[-1] if not pd.isna(x) else x).map(lambda x: re.sub('[\\W_]+', '', x))"
   ]
  },
  {
   "cell_type": "code",
   "execution_count": null,
   "metadata": {
    "tags": []
   },
   "outputs": [],
   "source": [
    "main_tracks = [mt for mt in talks_df[\"Main track\"].unique() if mt != 'Plenary']\n",
    "sub_tracks = [st for st in talks_df[Col.track].unique() if st != 'Plenary']\n",
    "print(\"Main tracks\", main_tracks)\n",
    "print(\"Sub tracks\", sub_tracks)"
   ]
  },
  {
   "cell_type": "code",
   "execution_count": null,
   "metadata": {
    "tags": []
   },
   "outputs": [],
   "source": [
    "talk2main_track = pd.concat([talks_df[Col.submission], pd.get_dummies(talks_df[\"Main track\"], dtype=int)], axis=1)\n",
    "talk2main_track.head()"
   ]
  },
  {
   "cell_type": "code",
   "execution_count": null,
   "metadata": {
    "tags": []
   },
   "outputs": [],
   "source": [
    "talk2main_track = talk2main_track.melt(id_vars=Col.submission, value_vars=talk2main_track.columns, var_name='Main track').sort_values([Col.submission, \"Main track\"]).set_index([Col.submission, \"Main track\"]).to_dict()['value']"
   ]
  },
  {
   "cell_type": "code",
   "execution_count": null,
   "metadata": {
    "tags": []
   },
   "outputs": [],
   "source": [
    "talk2sub_track = pd.concat([talks_df[Col.submission], pd.get_dummies(talks_df[\"Track\"], dtype=int)], axis=1)\n",
    "talk2sub_track.head()"
   ]
  },
  {
   "cell_type": "code",
   "execution_count": null,
   "metadata": {
    "tags": []
   },
   "outputs": [],
   "source": [
    "talk2sub_track = talk2sub_track.melt(id_vars=Col.submission, value_vars=talk2sub_track.columns, var_name='Track').sort_values([Col.submission, \"Track\"]).set_index([Col.submission, \"Track\"]).to_dict()['value']"
   ]
  },
  {
   "cell_type": "code",
   "execution_count": null,
   "metadata": {
    "tags": []
   },
   "outputs": [],
   "source": [
    "talk2idx = {v: k for k, v in enumerate(set(talks_df[Col.submission].to_list()))}\n",
    "idx2talk = {v: k for k, v in talk2idx.items()}"
   ]
  },
  {
   "cell_type": "code",
   "execution_count": null,
   "metadata": {
    "tags": []
   },
   "outputs": [],
   "source": [
    "votes_df = pd.read_csv(\n",
    "    f\"https://pretalx.com/{cfg['event_name']}/schedule/export/public_votes.csv\",\n",
    "    storage_options = {\n",
    "        'Authorization': f'Token {get_cfg().Pretalx.api_token}',\n",
    "        'Content-Type': 'text/plain'\n",
    "    }\n",
    ")\n",
    "\n",
    "votes_df = votes_df.rename(columns={'code': Col.submission, 'score': Col.vote_score})\n",
    "# Remove votes for submissions that wheren't accepted\n",
    "votes_df = votes_df.loc[votes_df[Col.submission].apply(lambda talk: talk in talk2idx.keys())].reset_index(drop=True)\n",
    "# Remove votes equal 1 as this meant \"being indifferent\"\n",
    "votes_df = votes_df.loc[votes_df[Col.vote_score] > 1]\n",
    "# Move a score of 2 to 1, so that \"must see\" counts tripple compared to \"want to see\"\n",
    "votes_df.loc[votes_df[Col.vote_score] == 2, Col.vote_score] = 1"
   ]
  },
  {
   "cell_type": "code",
   "execution_count": null,
   "metadata": {
    "tags": []
   },
   "outputs": [],
   "source": [
    "talk_lengths = {s:d for _, (s, d) in talks_df[[Col.submission, Col.duration]].iterrows()}\n",
    "print(talk_lengths)\n",
    "# NO CONSECUTIVE TUTORIALS THIS YEAR\n",
    "# following tutorials build sequences and thus need to be in the same session and after one another\n",
    "# consecutive_tutorials = [(\"VFZ3VT\", \"DEQM3J\"), (\"KUKU9Z\", \"YWTRSG\")]\n",
    "sponsored_talks = [t.code for t in talks if \"Sponsor\" in t.submission_type.en]"
   ]
  },
  {
   "cell_type": "code",
   "execution_count": null,
   "metadata": {
    "tags": []
   },
   "outputs": [],
   "source": [
    "pops_dict = votes_df.groupby(Col.submission)['Vote Score'].sum().to_dict()\n",
    "# give sponsored talks the median popularity\n",
    "for talk in set(talks_df[Col.submission].to_list()) - set(pops_dict.keys()):\n",
    "    pops_dict[talk] = np.median(list(pops_dict.values()))\n",
    "# normalize the popularities\n",
    "min_pop = np.min(list(pops_dict.values()))\n",
    "max_pop = np.max(list(pops_dict.values()))\n",
    "pops_dict = {k:(v - min_pop) / (max_pop - min_pop) for k, v in pops_dict.items()}\n",
    "print({k: f\"{v:.3}\" for k, v in pops_dict.items()})"
   ]
  },
  {
   "cell_type": "code",
   "execution_count": null,
   "metadata": {
    "tags": []
   },
   "outputs": [],
   "source": [
    "room_caps_dict = {room.name.en.replace('-', ''):room.capacity for room in rooms}\n",
    "print(room_caps_dict)\n",
    "# normalize room_caps like popularity by dividing by min\n",
    "min_room_cap = np.min(list(room_caps_dict.values()))\n",
    "max_room_cap = np.max(list(room_caps_dict.values()))\n",
    "room_caps_dict = {k: (v - min_room_cap) / (max_room_cap - min_room_cap) for k, v in room_caps_dict.items()}\n",
    "tutorial_rooms =  {'A03A04', 'A05A06'}\n",
    "talk_rooms = set(room_caps_dict.keys()) - tutorial_rooms\n",
    "print(room_caps_dict)"
   ]
  },
  {
   "cell_type": "code",
   "execution_count": null,
   "metadata": {
    "tags": []
   },
   "outputs": [],
   "source": [
    "# generate penalty for a talk given its popularity in a certain room\n",
    "talk_room_penalty = {(talk, room): (pop - cap)**2 for (talk, pop), (room, cap) in product(pops_dict.items(), room_caps_dict.items())} \n",
    "min(talk_room_penalty.values()), max(talk_room_penalty.values())"
   ]
  },
  {
   "cell_type": "code",
   "execution_count": null,
   "metadata": {
    "tags": []
   },
   "outputs": [],
   "source": [
    "# generate cooccurrence penalty for all talks scheduled at the same time-slot & room using Gram-matrix\n",
    "n_users = votes_df['voter'].nunique()\n",
    "n_talks = len(talks_df)\n",
    "\n",
    "def user_interaction(user_votes):\n",
    "    x = np.zeros(n_talks)\n",
    "    for _, (sub, vote_score) in user_votes[[Col.submission, Col.vote_score]].iterrows():\n",
    "        x[talk2idx[sub]] = vote_score\n",
    "    return x\n",
    "\n",
    "X = np.vstack(votes_df.groupby(\"voter\").apply(user_interaction))\n",
    "assert X.shape == (n_users, n_talks)\n",
    "\n",
    "cooccurance_penalty = X.T @ X\n",
    "\n",
    "# set diagonal to 0 since a talk is always parallel to itself.\n",
    "np.fill_diagonal(cooccurance_penalty, 0.)\n",
    "\n",
    "# normalize with max as sponsored talks will get the value 1.\n",
    "cooccurance_penalty /= cooccurance_penalty.max() "
   ]
  },
  {
   "cell_type": "code",
   "execution_count": null,
   "metadata": {
    "tags": []
   },
   "outputs": [],
   "source": [
    "# for sponsored talks set a high cooccurence penalty\n",
    "for t1, t2 in combinations(sponsored_talks, 2):\n",
    "    cooccurance_penalty[talk2idx[t1], talk2idx[t2]] = cooccurance_penalty[talk2idx[t2], talk2idx[t1]] = 1.\n",
    "    \n",
    "# set diagonal to 0 since a talk is always parallel to itself.\n",
    "np.fill_diagonal(cooccurance_penalty, 0.)\n",
    "\n",
    "talk_cooccurence_penalty = {(t1, t2): cooccurance_penalty[talk2idx[t1], talk2idx[t2]]**2 for t1, t2 in product(talk2idx.keys(), talk2idx.keys())}\n",
    "plt.matshow(cooccurance_penalty);"
   ]
  },
  {
   "cell_type": "markdown",
   "metadata": {},
   "source": [
    "## Time-Table Scheduling"
   ]
  },
  {
   "cell_type": "markdown",
   "metadata": {},
   "source": [
    "We consider following constraints:\n",
    "* each talk must be assigned once\n",
    "* each room/timeslot combination can only be occupied by one talk at most\n",
    "* the length of the timeslot must match the length of the talk\n",
    "* some tutorials have part 1 & 2,thus need to be consecutive\n",
    "\n",
    "We optimize an objective which considers:\n",
    "1. the preferences for day and time of the speakers are considered (if they provided some)\n",
    "2. the more popular a talk is, the more capacity the assigned room should have\n",
    "3. if many people are interested in seeing two talks (data from the votes) these talks should rather not be scheduled in parallel (sponsored talks should never be in parallel)\n",
    "4. if possible have in the same session (block of talks) the same main track, e.g. PyData, \n",
    "5. or even the same sub track, e.g.PyData: Data Handling, assuming that people have certain preferences regarding tracks.\n",
    "\n",
    "The importance is 1 > 2 > 3 > 4 > 5"
   ]
  },
  {
   "cell_type": "code",
   "execution_count": null,
   "metadata": {
    "tags": []
   },
   "outputs": [],
   "source": [
    "import pyomo.environ as pyo\n",
    "import pyomo.gdp as pyogdp\n",
    "from pyomo.contrib.appsi.solvers import Highs\n",
    "from tqdm.auto import tqdm"
   ]
  },
  {
   "cell_type": "code",
   "execution_count": null,
   "metadata": {
    "tags": []
   },
   "outputs": [],
   "source": [
    "model = pyo.ConcreteModel(name=\"PyConDE/PyData Schedule 2024\")\n",
    "\n",
    "##############\n",
    "# Index Sets #\n",
    "##############\n",
    "\n",
    "model.sTalks = pyo.Set(initialize=talks_df[Col.submission].values, ordered=True)\n",
    "model.sDays = pyo.Set(initialize=[\"Monday\", \"Tuesday\", \"Wednesday\"], ordered=True)\n",
    "model.sSessions = pyo.Set(initialize=[\"Morning\", \"Afternoon1\", \"Afternoon2\"], ordered=True)\n",
    "model.sSlots = pyo.Set(initialize=[\"First\", \"Second\", \"Third\"], ordered=True)\n",
    "model.sRooms = pyo.Set(initialize=room_caps_dict.keys(), ordered=True)\n",
    "model.sMainTracks = pyo.Set(initialize=main_tracks, ordered=True)\n",
    "model.sSubTracks = pyo.Set(initialize=sub_tracks, ordered=True)\n",
    "\n",
    "##############\n",
    "# Parameters #\n",
    "##############\n",
    "\n",
    "## Set here the preferences of the speakers/talks for the slots\n",
    "def init_slot_preference(model, t, d, s, l, r):\n",
    "    if t in {\"CBVTEG\", \"8LNYPD\"} and d == \"Monday\":\n",
    "        return 1\n",
    "    elif t in {\"PRH3QU\", \"UBNVYW\", \"Y3FLEH\"} and d in {\"Monday\", \"Tuesday\"}:\n",
    "        return 1\n",
    "    elif t in {\"C9F9CC\"} and d in {\"Tuesday\", \"Wednesday\"}:\n",
    "        return 1\n",
    "    else:\n",
    "        return 0\n",
    "\n",
    "model.pPreferences = pyo.Param(model.sTalks, model.sDays, model.sSessions, model.sSlots, model.sRooms, initialize=init_slot_preference, mutable=False)\n",
    "model.pTalkRoomPenalty = pyo.Param(model.sTalks, model.sRooms, initialize=talk_room_penalty, mutable=False)\n",
    "model.pCoOccurencesPenalty = pyo.Param(model.sTalks, model.sTalks, initialize=talk_cooccurence_penalty, mutable=False)\n",
    "model.pTalk2MainTrack = pyo.Param(model.sTalks, model.sMainTracks, initialize=talk2main_track, mutable=False)\n",
    "model.pTalk2SubTrack = pyo.Param(model.sTalks, model.sSubTracks, initialize=talk2sub_track, mutable=False)\n",
    "\n",
    "def init_slot_length(model, d, s, l, r):\n",
    "    if d == \"Monday\":\n",
    "        if s == \"Morning\":\n",
    "            if r in talk_rooms:\n",
    "                if l == \"First\":\n",
    "                    return 45\n",
    "                elif l == \"Second\":\n",
    "                    return 30\n",
    "                else:\n",
    "                    return 0  # no third slot\n",
    "            else:\n",
    "                return 90 if l == \"First\" else 0\n",
    "        elif s == \"Afternoon1\":\n",
    "            if r in talk_rooms:\n",
    "                if l == \"First\":\n",
    "                    return 45\n",
    "                elif l == \"Second\":\n",
    "                    return 30\n",
    "                else:\n",
    "                    return 0  # no third slot\n",
    "            else:\n",
    "                return 90 if l == \"First\" else 0\n",
    "        else: # \"Afternoon 2\":\n",
    "            if r in talk_rooms:\n",
    "                if l == \"First\":\n",
    "                    return 30\n",
    "                elif l == \"Second\":\n",
    "                    return 45\n",
    "                else:\n",
    "                    return 0 # no Third slot\n",
    "            else:\n",
    "                return 90 if l == \"First\" else 0\n",
    "    elif d == \"Tuesday\":\n",
    "        if s == \"Morning\":\n",
    "            if r in talk_rooms:\n",
    "                return 30\n",
    "            else:\n",
    "                return 90 if l == \"First\" else 0\n",
    "        elif s == \"Afternoon1\":\n",
    "            if r in talk_rooms:\n",
    "                if l == \"First\":\n",
    "                    return 30\n",
    "                elif l == \"Second\":\n",
    "                    return 45\n",
    "                else:\n",
    "                    return 0 # no Third slot\n",
    "            else:\n",
    "                return 90 if l == \"First\" else 0\n",
    "        else: # Afternoon 2\n",
    "            if r == \"Kuppelsaal\":  # there is a panel in the Kuppelsaal\n",
    "                return 0\n",
    "            elif r in talk_rooms:\n",
    "                if l == \"First\":\n",
    "                    return 30\n",
    "                elif l == \"Second\":\n",
    "                    return 30\n",
    "                else:\n",
    "                    return 0 # no Third slot\n",
    "            \n",
    "            else:\n",
    "                return 90 if l == \"First\" else 0\n",
    "    else: # Wednesday\n",
    "        if s == \"Morning\":\n",
    "            if r in talk_rooms:\n",
    "                return 30  # for all slots\n",
    "            else:\n",
    "                return 90 if l == \"First\" else 0\n",
    "        elif s == \"Afternoon1\":\n",
    "            if r in talk_rooms:\n",
    "                if l in {\"First\", \"Second\"}:\n",
    "                    return 30\n",
    "                else:\n",
    "                    return 0\n",
    "            else:\n",
    "                return 90 if l == \"First\" else 0\n",
    "        else: # Afternoon 2\n",
    "            if l in {\"First\", \"Second\"}:\n",
    "                return 30\n",
    "            else:\n",
    "                return 0\n",
    "    raise RuntimeError(f\"Unhandled case {d}, {s}, {l}, {r}\")\n",
    "\n",
    "model.pSlotLengths = pyo.Param(model.sDays, model.sSessions, model.sSlots, model.sRooms, initialize=init_slot_length, mutable=False)\n",
    "model.pTalkLengths = pyo.Param(model.sTalks, initialize=talk_lengths, mutable=False)\n",
    "\n",
    "#############\n",
    "# Variables #\n",
    "#############\n",
    "\n",
    "## Auxiliary variables\n",
    "# indicator if talk t is in room r\n",
    "model.vbTalkRoom = pyo.Var(model.sTalks, model.sRooms, domain=pyo.Binary) \n",
    "# indicator if talk t is in day/session/slot combination. Used later to calculate cooccurences.\n",
    "model.vbParallelTalk = pyo.Var(model.sTalks, model.sDays, model.sSessions, model.sSlots, domain=pyo.Binary) \n",
    "# indicator if two talks are in the same day/session/slot combination, thus are running in parallel and only one can be attended to.\n",
    "model.vbCoOccurences = pyo.Var(model.sTalks, model.sTalks, model.sDays, model.sSessions, model.sSlots, domain=pyo.Binary) \n",
    "# indicator if two talks are in the same day\n",
    "model.vbSameDay = pyo.Var(model.sTalks, model.sTalks, model.sDays, domain=pyo.Binary)\n",
    "# indicator if main track occures in day/session/room combination, i.e. occurs in the current session of a room\n",
    "model.vbMainTrackSessionRoom = pyo.Var(model.sDays, model.sSessions, model.sRooms, model.sMainTracks, domain=pyo.Binary) \n",
    "# indicator if sub track occures in day/session/room combination, i.e. occurs in the current session of a room\n",
    "model.vbSubTrackSessionRoom = pyo.Var(model.sDays, model.sSessions, model.sRooms, model.sSubTracks, domain=pyo.Binary)\n",
    "# indicator if talk t is in day/session/room combination, i.e. talk is in a session of a room.\n",
    "model.vbTalkSession = pyo.Var(model.sTalks, model.sDays, model.sSessions, model.sRooms, domain=pyo.Binary)\n",
    "\n",
    "## Decision variable\n",
    "model.vbSchedule = pyo.Var(model.sTalks, model.sDays, model.sSessions, model.sSlots, model.sRooms, domain=pyo.Binary)\n",
    "\n",
    "###############\n",
    "# Constraints #\n",
    "###############\n",
    "\n",
    "# Make sure talk lengths fits slot lengths\n",
    "model.ctTalkSlotFit = pyo.ConstraintList()\n",
    "for t in model.sTalks:\n",
    "    model.ctTalkSlotFit.add(sum(model.vbSchedule[t, d, s, l, r] * model.pSlotLengths[d, s, l, r] for d, s, l, r in product(model.sDays, model.sSessions, model.sSlots, model.sRooms)) == model.pTalkLengths[t])\n",
    "    \n",
    "# Make sure each room/timeslot-combination is occupied only with one talk at most\n",
    "model.ctTimeRoomOccup = pyo.ConstraintList()\n",
    "for d, s, l, r in product(model.sDays, model.sSessions, model.sSlots,  model.sRooms):\n",
    "    model.ctTimeRoomOccup.add(sum(model.vbSchedule[:, d, s, l, r]) <= 1)\n",
    "    \n",
    "# Set vbParallelTalk auxiliary variable\n",
    "model.ctParallelTalk = pyo.ConstraintList()\n",
    "for t, d, s, l in product(model.sTalks, model.sDays, model.sSessions, model.sSlots):\n",
    "    model.ctParallelTalk.add(model.vbParallelTalk[t, d, s, l] == sum(model.vbSchedule[t, d, s, l, :]))\n",
    "                               \n",
    "# Make sure each talk is assigned once\n",
    "model.ctTalkAssigned = pyo.ConstraintList()\n",
    "for t in model.sTalks:\n",
    "    model.ctTalkAssigned.add(sum(model.vbSchedule[t, :, :, :, :]) == 1)\n",
    "\n",
    "# Set vbCoOccurences auxiliary variable\n",
    "model.ctCoOccurences = pyo.ConstraintList()\n",
    "for d, s, l in product(model.sDays, model.sSessions, model.sSlots):\n",
    "    for t1, t2 in combinations(model.sTalks, 2):\n",
    "        model.ctCoOccurences.add(model.vbCoOccurences[t1, t2, d, s, l] + 1 >= model.vbParallelTalk[t1, d, s, l] + model.vbParallelTalk[t2, d, s, l])\n",
    "\n",
    "# Set vbSameDay auxiliary variable\n",
    "model.ctSameDay = pyo.ConstraintList()\n",
    "for d in model.sDays:\n",
    "    for t1, t2 in combinations(model.sTalks, 2):\n",
    "        model.ctSameDay.add(2*model.vbSameDay[t1, t2, d] <= sum(model.vbParallelTalk[t1, d, s, l] + model.vbParallelTalk[t2, d, s, l] for s, l in product(model.sSessions, model.sSlots)))\n",
    "\n",
    "# Set vbTalkRoom auxiliary variable\n",
    "model.ctTalkRoom = pyo.ConstraintList()\n",
    "for t, r in product(model.sTalks, model.sRooms):\n",
    "    model.ctTalkRoom.add(sum(model.vbSchedule[t, ..., r]) == model.vbTalkRoom[t, r])\n",
    "\n",
    "# Enforce that some talks need to be in consecutive order\n",
    "# NOT NEEDED THIS YEAR!\n",
    "# def ct_consecutive_slots(model, t1, t2):\n",
    "#     possibilities = [((\"Tuesday\", \"Afternoon1\", \"First\", r), (\"Tuesday\", \"Afternoon2\", \"First\", r)) for r in tutorial_rooms]\n",
    "#     possibilities.extend([((\"Wednesday\", \"Morning1\", \"First\", r), (\"Wednesday\", \"Morning2\", \"First\", r)) for r in tutorial_rooms])\n",
    "#     return [[model.vbSchedule[t1, d1, s1, l1, r1] + model.vbSchedule[t2, d2, s2, l2, r2] == 2] for (d1, s1, l1, r1), (d2, s2, l2, r2) in possibilities]\n",
    "\n",
    "# Set disjunction constraint for consecutive tutorials\n",
    "# for i, (t1, t2) in enumerate(consecutive_tutorials):\n",
    "#     # there seems to be no List object for disjunctions, thus we use setattr\n",
    "#     setattr(model, f'disjTutorial{i}', pyogdp.Disjunction(expr=ct_consecutive_slots(model, t1, t2)))\n",
    "    \n",
    "# Set vbTalkSession auxiliary variable\n",
    "model.ctTalkSession = pyo.ConstraintList()\n",
    "for t, d, s, r in product(model.sTalks, model.sDays, model.sSessions, model.sRooms):\n",
    "    model.ctTalkSession.add(model.vbTalkSession[t, d, s, r] == sum(model.vbSchedule[t, d, s, :, r]))\n",
    "    \n",
    "# Set vbMainTrackSessionRoom auxiliary variable\n",
    "model.ctMainTrackSessionRoom = pyo.ConstraintList()\n",
    "for d, s, r, mt in product(model.sDays, model.sSessions, model.sRooms, model.sMainTracks):\n",
    "    model.ctMainTrackSessionRoom.add(model.vbMainTrackSessionRoom[d, s, r, mt]*len(model.sSlots) >= sum(model.vbTalkSession[t, d, s, r]*model.pTalk2MainTrack[t, mt] for t in model.sTalks))\n",
    "    \n",
    "# Set vbSubTrackSessionRoom auxiliary variable\n",
    "model.ctSubTrackSessionRoom = pyo.ConstraintList()\n",
    "for d, s, r, st in product(model.sDays, model.sSessions, model.sRooms, model.sSubTracks):\n",
    "    model.ctSubTrackSessionRoom.add(model.vbSubTrackSessionRoom[d, s, r, st]*len(model.sSlots) >= sum(model.vbTalkSession[t, d, s, r]*model.pTalk2SubTrack[t, st] for t in model.sTalks))\n",
    "    \n",
    "#############\n",
    "# Objective #\n",
    "############# \n",
    "\n",
    "def objective(model):\n",
    "    preference_term = pyo.dot_product(model.pPreferences, model.vbSchedule)\n",
    "    pop_roomcap_term = pyo.dot_product(model.pTalkRoomPenalty, model.vbTalkRoom)\n",
    "    cooccurance_terms = []\n",
    "    for d, s, l in product(model.sDays, model.sSessions, model.sSlots):\n",
    "        cooccurance_terms.append(sum(model.vbCoOccurences[t1, t2, d, s, l] * model.pCoOccurencesPenalty[t1, t2] for t1, t2 in combinations(model.sTalks, 2)))\n",
    "    \n",
    "    same_day_talks = []\n",
    "    for d in model.sDays:\n",
    "        same_day_talks.append(sum(model.vbSameDay[t1, t2, d] for t1, t2 in [('UBNVYW', 'Y3FLEH')]))  # talks of Anna-Lena and Pascal!\n",
    "        \n",
    "    cooccurance_term = sum(cooccurance_terms) + sum(model.vbCoOccurences[...]) # last term forces vbCoOccurences to be 0 if possible\n",
    "    main_tack_term = sum(model.vbMainTrackSessionRoom[...])  # the higher this number the more different tracks we have in a session. We want the opposite.\n",
    "    sub_track_term = sum(model.vbSubTrackSessionRoom[...])  # see above\n",
    "    same_day_talks_term = sum(same_day_talks)\n",
    "    \n",
    "    return 100_000_000*(preference_term + 0.5*same_day_talks_term) - 1_000_000*pop_roomcap_term - 10_000*cooccurance_term - 100*main_tack_term - sub_track_term   \n",
    "\n",
    "model.obj = pyo.Objective(sense=pyo.maximize, rule=objective)\n",
    "pyo.TransformationFactory(\"gdp.bigm\").apply_to(model)\n"
   ]
  },
  {
   "cell_type": "code",
   "execution_count": null,
   "metadata": {
    "tags": []
   },
   "outputs": [],
   "source": [
    "# consistency check: amount of lengths of talks/timeslots must match, sponsored talks are considered normal talks\n",
    "print(\"Slots:\\n\", pd.Series(model.pSlotLengths.values()).value_counts(), sep='')\n",
    "print(\"\\nTalks:\\n\", talks_df[Col.duration].value_counts(), sep='')"
   ]
  },
  {
   "cell_type": "code",
   "execution_count": null,
   "metadata": {
    "tags": []
   },
   "outputs": [],
   "source": [
    "# Optionally write out the model file to solve it on the CLI directly, which provides more info while running\n",
    "model.write(filename = \"pyconde_pydata_schedule_20240214.mps\", io_options = {\"symbolic_solver_labels\": True})"
   ]
  },
  {
   "cell_type": "code",
   "execution_count": null,
   "metadata": {
    "tags": []
   },
   "outputs": [],
   "source": [
    "# solve it here directly\n",
    "# solver = Highs()\n",
    "# solver.config.time_limit = 600. # 10 minutes, set to a number high enough to reach a feasible solution\n",
    "# solver.config.load_solution = False\n",
    "# sol = solver.solve(model)\n",
    "# solver.load_vars() # only works if solution is valid/feasible"
   ]
  },
  {
   "cell_type": "code",
   "execution_count": null,
   "metadata": {
    "tags": []
   },
   "outputs": [],
   "source": [
    "# or better in the CLI \n",
    "#!highs pyconde_pydata_schedule_20240214.mps --solution_file 20240214.sol --time_limit 36000 # 10 hours!"
   ]
  },
  {
   "cell_type": "markdown",
   "metadata": {},
   "source": [
    "## BE AWARE that this most likely runs more than 20 minutes to find a first feasible solutions and needs more than 12 hours to have a really nice solution."
   ]
  },
  {
   "cell_type": "code",
   "execution_count": null,
   "metadata": {
    "tags": []
   },
   "outputs": [],
   "source": [
    "set_solution_from_file(model, \"20240214.sol\")"
   ]
  },
  {
   "cell_type": "markdown",
   "metadata": {},
   "source": [
    "## Upload to GSheet"
   ]
  },
  {
   "cell_type": "code",
   "execution_count": null,
   "metadata": {},
   "outputs": [],
   "source": [
    "schedule_df = pd.DataFrame([idx for idx, val in model.vbSchedule.items() if val() >= 0.5], columns=[Col.submission, \"Day\", \"Session\", \"Slot\", \"Room\"])\n",
    "schedule_df = schedule_df.loc[:, [\"Day\", \"Session\", \"Slot\", \"Room\", Col.submission]]\n",
    "schedule_df[\"Day\"] = pd.Categorical(schedule_df[\"Day\"], model.sDays.data())\n",
    "schedule_df[\"Session\"] = pd.Categorical(schedule_df[\"Session\"], model.sSessions.data())\n",
    "schedule_df[\"Slot\"] = pd.Categorical(schedule_df[\"Slot\"], model.sSlots.data())\n",
    "schedule_df[\"Room\"] = pd.Categorical(schedule_df[\"Room\"], model.sRooms.data())\n",
    "schedule_df.sort_values(list(schedule_df.columns[:-1]), inplace=True)\n",
    "schedule_df.reset_index(drop=True, inplace=True)\n",
    "timetable_df = schedule_df.pivot(index=[\"Day\", \"Session\", \"Slot\"], columns=\"Room\", values=Col.submission)"
   ]
  },
  {
   "cell_type": "code",
   "execution_count": null,
   "metadata": {
    "tags": []
   },
   "outputs": [],
   "source": [
    "timetable_df"
   ]
  },
  {
   "cell_type": "code",
   "execution_count": null,
   "metadata": {
    "tags": []
   },
   "outputs": [],
   "source": [
    "def cell_content(sub):\n",
    "    talks_df_idx = talks_df.set_index(Col.submission)\n",
    "    main_track = talks_df_idx.loc[sub, \"Main track\"]\n",
    "    sub_track = talks_df_idx.loc[sub, \"Track\"]\n",
    "    sub_track_max = 20\n",
    "    sub_track = sub_track if len(sub_track) < sub_track_max else sub_track[:sub_track_max-3] + \"...\"\n",
    "    sponsored = \"\\nSponsored\" if sub in sponsored_talks else \"\"\n",
    "    content = f\"{sub2title[sub]}\\n{main_track}: {sub_track}\\n{talk_lengths[sub]}min\\nPop: {pops_dict[sub]:.0%}{sponsored}\"\n",
    "    return f'=HYPERLINK(\"https://pretalx.com/orga/event/{cfg[\"event_name\"]}/submissions/{sub}\", \"{content}\")'\n",
    "\n",
    "# make submission code a hyperlink\n",
    "sub2title = {t.code: t.title.replace('\"', \"'\") for t in talks}\n",
    "schedule_df[Col.submission] = schedule_df[Col.submission].map(cell_content)\n",
    "schedule_df[\"Room\"] = schedule_df[\"Room\"].map(lambda room: f\"{room} Cap: {room_caps_dict[room]:.0%}\")\n",
    "timetable_df = schedule_df.pivot(index=[\"Day\", \"Session\", \"Slot\"], columns=\"Room\", values=Col.submission)"
   ]
  },
  {
   "cell_type": "code",
   "execution_count": null,
   "metadata": {
    "tags": []
   },
   "outputs": [],
   "source": [
    "gsheet_client = GSheetsClient(read_only=False)"
   ]
  },
  {
   "cell_type": "code",
   "execution_count": null,
   "metadata": {
    "tags": []
   },
   "outputs": [],
   "source": [
    "gsheet_client.save_df_as_gsheet(timetable_df.reset_index(), cfg['schedule_spread_id'], cfg['schedule_work_name'])"
   ]
  },
  {
   "cell_type": "code",
   "execution_count": null,
   "metadata": {
    "tags": []
   },
   "outputs": [],
   "source": [
    "from gspread_formatting import set_column_width, set_row_height, cellFormat, format_cell_range\n",
    "\n",
    "worksheet = gsheet_client.gsheet(cfg['schedule_spread_id'], cfg['schedule_work_name'])\n",
    "set_column_width(worksheet, 'D:J', 200)\n",
    "set_row_height(worksheet, f\"2:{len(timetable_df)+1}\", 130)\n",
    "\n",
    "fmt = cellFormat(wrapStrategy='WRAP')\n",
    "format_cell_range(worksheet, worksheet_range(worksheet), fmt);"
   ]
  },
  {
   "cell_type": "markdown",
   "metadata": {},
   "source": [
    "## References\n",
    "* https://fran-espiga.medium.com/mixed-integer-programming-for-time-table-scheduling-eee326deda75\n",
    "* https://towardsdatascience.com/schedule-optimisation-using-linear-programming-in-python-9b3e1bc241e1\n",
    "* https://math.stackexchange.com/questions/432003/converting-absolute-value-program-into-linear-program"
   ]
  }
 ],
 "metadata": {
  "kernelspec": {
   "display_name": "Python 3 (ipykernel)",
   "language": "python",
   "name": "python3"
  },
  "language_info": {
   "codemirror_mode": {
    "name": "ipython",
    "version": 3
   },
   "file_extension": ".py",
   "mimetype": "text/x-python",
   "name": "python",
   "nbconvert_exporter": "python",
   "pygments_lexer": "ipython3",
   "version": "3.10.9"
  },
  "pycharm": {
   "stem_cell": {
    "cell_type": "raw",
    "metadata": {
     "collapsed": false
    },
    "source": []
   }
  }
 },
 "nbformat": 4,
 "nbformat_minor": 4
}
